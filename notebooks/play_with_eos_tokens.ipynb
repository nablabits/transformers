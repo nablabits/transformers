{
 "cells": [
  {
   "cell_type": "code",
   "execution_count": 3,
   "id": "ac18faec-eacc-46df-8688-eeb021a63454",
   "metadata": {},
   "outputs": [],
   "source": [
    "import torch\n",
    "from transformers import AutoTokenizer, AutoModelForCausalLM"
   ]
  },
  {
   "cell_type": "code",
   "execution_count": 13,
   "id": "a887d503-b45f-4341-99e5-fd96783eae33",
   "metadata": {
    "editable": true,
    "slideshow": {
     "slide_type": ""
    },
    "tags": []
   },
   "outputs": [
    {
     "data": {
      "text/plain": [
       "tensor(0)"
      ]
     },
     "execution_count": 13,
     "metadata": {},
     "output_type": "execute_result"
    }
   ],
   "source": [
    "eos_token = torch.tensor([1, 2, 3])\n",
    "input_ids = torch.tensor([[11, 1, 2]])\n",
    "\n",
    "s = eos_token.shape[0] - 1\n",
    "last_predicted_tokens = input_ids[:, -s:]\n",
    "next_token = torch.tensor([3])\n",
    "sequence_to_check = torch.cat((last_predicted_tokens[0], next_token), dim=0)\n",
    "\n",
    "# this will get a 1 if there's a full match but unfinished_sequences needs a 0 to finalise.\n",
    "# Therefore, we will need to flip the outcome.\n",
    "((sequence_to_check.eq(eos_token).sum() == 3).sum() != 1).sum()"
   ]
  },
  {
   "cell_type": "code",
   "execution_count": 5,
   "id": "29b5d95d-ed3a-4e07-b2b8-05bd2c41af73",
   "metadata": {},
   "outputs": [],
   "source": [
    "tokenizer = AutoTokenizer.from_pretrained(\"gpt2\")\n",
    "model = AutoModelForCausalLM.from_pretrained(\"gpt2\")"
   ]
  },
  {
   "cell_type": "code",
   "execution_count": 7,
   "id": "ece0cf19-fa16-4cb9-ba6f-451cfb99b4c4",
   "metadata": {},
   "outputs": [
    {
     "data": {
      "text/plain": [
       "[257, 1664, 326]"
      ]
     },
     "execution_count": 7,
     "metadata": {},
     "output_type": "execute_result"
    }
   ],
   "source": [
    "stop_token_ids = tokenizer.encode(\" a company that\")\n",
    "tokenizer.batch_decode([5834, 318, 257])\n",
    "stop_token_ids"
   ]
  },
  {
   "cell_type": "code",
   "execution_count": 16,
   "id": "0d203641-61bf-4c45-8a31-44f75edfd044",
   "metadata": {},
   "outputs": [
    {
     "data": {
      "text/plain": [
       "tensor([[ 257, 1664,  326]])"
      ]
     },
     "execution_count": 16,
     "metadata": {},
     "output_type": "execute_result"
    }
   ],
   "source": [
    "tokenizer([\" a company that\"], return_tensors=\"pt\").input_ids"
   ]
  },
  {
   "cell_type": "code",
   "execution_count": null,
   "id": "cf8db7f1-7ae4-47e8-8bf7-3a3fb9be1a07",
   "metadata": {},
   "outputs": [],
   "source": []
  }
 ],
 "metadata": {
  "kernelspec": {
   "display_name": "Python 3 (ipykernel)",
   "language": "python",
   "name": "python3"
  },
  "language_info": {
   "codemirror_mode": {
    "name": "ipython",
    "version": 3
   },
   "file_extension": ".py",
   "mimetype": "text/x-python",
   "name": "python",
   "nbconvert_exporter": "python",
   "pygments_lexer": "ipython3",
   "version": "3.10.8"
  }
 },
 "nbformat": 4,
 "nbformat_minor": 5
}
